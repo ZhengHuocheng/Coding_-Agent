{
 "cells": [
  {
   "cell_type": "code",
   "execution_count": null,
   "id": "f94f1705",
   "metadata": {},
   "outputs": [],
   "source": [
    "from code_generate import Coder\n",
    "from code_install_need_package import install_needed_package\n",
    "from code_run import excute_python_code\n",
    "from langchain_community.llms import Ollama\n",
    "from langchain.agents import Tool"
   ]
  },
  {
   "cell_type": "code",
   "execution_count": null,
   "id": "57164de4",
   "metadata": {},
   "outputs": [],
   "source": [
    "llm = Ollama(model=\"qwen:7b\")"
   ]
  },
  {
   "cell_type": "markdown",
   "id": "4e4588bf",
   "metadata": {},
   "source": [
    "### 定义Agent的Tools"
   ]
  },
  {
   "cell_type": "code",
   "execution_count": 3,
   "id": "665e1fc6",
   "metadata": {},
   "outputs": [],
   "source": [
    "coder = Coder()\n",
    "\n",
    "code_generate_Tool = Tool(\n",
    "    name = \"请求Python代码助手\",\n",
    "    func = coder,\n",
    "    description = \"这是一个专业的Python代码助手，可以通过生成Python代码来解决你的代码问题，也能够分析代码错误信息，并进行代码修改。传入你的需求文本信息，或者代码执行错误信息。返回Python代码块。\"\n",
    ")"
   ]
  },
  {
   "cell_type": "code",
   "execution_count": 4,
   "id": "b73ebf47",
   "metadata": {},
   "outputs": [],
   "source": [
    "run_python_code_Tool = Tool(\n",
    "    name = \"Python代码执行工具\",\n",
    "    func = excute_python_code,\n",
    "    description = \"这是一个运行Python代码的工具，传入Python代码块，返回代码执行结果。\"\n",
    ")"
   ]
  },
  {
   "cell_type": "code",
   "execution_count": 5,
   "id": "3ee29095",
   "metadata": {},
   "outputs": [],
   "source": [
    "install_package_Tool = Tool(\n",
    "    name = \"Python包安装工具\",\n",
    "    func = install_needed_package,\n",
    "    description = \"这是一个安装Python包的工具，当你缺少某个Python包时，帮你安装Python包，传入包名。\"\n",
    ")"
   ]
  },
  {
   "cell_type": "code",
   "execution_count": 6,
   "id": "2ecf05d5",
   "metadata": {},
   "outputs": [],
   "source": [
    "Tools = (code_generate_Tool, run_python_code_Tool, install_package_Tool)"
   ]
  },
  {
   "cell_type": "code",
   "execution_count": 7,
   "id": "a6602c05",
   "metadata": {},
   "outputs": [],
   "source": [
    "from langchain.agents import initialize_agent"
   ]
  },
  {
   "cell_type": "code",
   "execution_count": 8,
   "id": "5c93d9f5",
   "metadata": {},
   "outputs": [
    {
     "name": "stderr",
     "output_type": "stream",
     "text": [
      "E:\\My_Anaconda\\Anaconda\\envs\\LangChain_and_VectorDB\\Lib\\site-packages\\langchain_core\\_api\\deprecation.py:119: LangChainDeprecationWarning: The function `initialize_agent` was deprecated in LangChain 0.1.0 and will be removed in 0.3.0. Use Use new agent constructor methods like create_react_agent, create_json_agent, create_structured_chat_agent, etc. instead.\n",
      "  warn_deprecated(\n"
     ]
    }
   ],
   "source": [
    "code_agent = initialize_agent(\n",
    "    tools=Tools,\n",
    "    llm = llm,\n",
    "    agent = \"zero-shot-react-description\",\n",
    "    verbose= True,\n",
    "    handle_parsing_errors=True\n",
    ")"
   ]
  },
  {
   "cell_type": "code",
   "execution_count": 9,
   "id": "1318c5ee",
   "metadata": {},
   "outputs": [],
   "source": [
    "from pprint import pprint"
   ]
  },
  {
   "cell_type": "code",
   "execution_count": 10,
   "id": "8c118443",
   "metadata": {},
   "outputs": [
    {
     "name": "stdout",
     "output_type": "stream",
     "text": [
      "AgentExecutor(verbose=True, tags=['zero-shot-react-description'], agent=ZeroShotAgent(llm_chain=LLMChain(prompt=PromptTemplate(input_variables=['agent_scratchpad', 'input'], template=\"Answer the following questions as best you can. You have access to the following tools:\\n\\n请求Python代码助手(query: str) - 这是一个专业的Python代码助手，可以通过生成Python代码来解决你的代码问题，也能够分析代码错误信息，并进行代码修改。传入你的需求文本信息，或者代码执行错误信息。返回Python代码块。\\nPython代码执行工具(code: str) - 这是一个运行Python代码的工具，传入Python代码块，返回代码执行结果。\\nPython包安装工具(package_name: str, python_executable='E:\\\\\\\\My_Anaconda\\\\\\\\Anaconda\\\\\\\\envs\\\\\\\\LangChain_and_VectorDB\\\\\\\\python.exe') - 这是一个安装Python包的工具，当你缺少某个Python包时，帮你安装Python包，传入包名。\\n\\nUse the following format:\\n\\nQuestion: the input question you must answer\\nThought: you should always think about what to do\\nAction: the action to take, should be one of [请求Python代码助手, Python代码执行工具, Python包安装工具]\\nAction Input: the input to the action\\nObservation: the result of the action\\n... (this Thought/Action/Action Input/Observation can repeat N times)\\nThought: I now know the final answer\\nFinal Answer: the final answer to the original input question\\n\\nBegin!\\n\\nQuestion: {input}\\nThought:{agent_scratchpad}\"), llm=Ollama(model='qwen:7b')), output_parser=MRKLOutputParser(), allowed_tools=['请求Python代码助手', 'Python代码执行工具', 'Python包安装工具']), tools=(Tool(name='请求Python代码助手', description='这是一个专业的Python代码助手，可以通过生成Python代码来解决你的代码问题，也能够分析代码错误信息，并进行代码修改。传入你的需求文本信息，或者代码执行错误信息。返回Python代码块。', func=<code_generate.Coder object at 0x00000172D0342210>), Tool(name='Python代码执行工具', description='这是一个运行Python代码的工具，传入Python代码块，返回代码执行结果。', func=<function excute_python_code at 0x00000172B99E07C0>), Tool(name='Python包安装工具', description='这是一个安装Python包的工具，当你缺少某个Python包时，帮你安装Python包，传入包名。', func=<function install_needed_package at 0x00000172B99E02C0>)), handle_parsing_errors=True)\n"
     ]
    }
   ],
   "source": [
    "pprint(code_agent)"
   ]
  },
  {
   "cell_type": "code",
   "execution_count": 11,
   "id": "476dabd9",
   "metadata": {},
   "outputs": [
    {
     "name": "stdout",
     "output_type": "stream",
     "text": [
      "Answer the following questions as best you can. You have access to the following tools:\n",
      "\n",
      "请求Python代码助手(query: str) - 这是一个专业的Python代码助手，可以通过生成Python代码来解决你的代码问题，也能够分析代码错误信息，并进行代码修改。传入你的需求文本信息，或者代码执行错误信息。返回Python代码块。\n",
      "Python代码执行工具(code: str) - 这是一个运行Python代码的工具，传入Python代码块，返回代码执行结果。\n",
      "Python包安装工具(package_name: str, python_executable='E:\\\\My_Anaconda\\\\Anaconda\\\\envs\\\\LangChain_and_VectorDB\\\\python.exe') - 这是一个安装Python包的工具，当你缺少某个Python包时，帮你安装Python包，传入包名。\n",
      "\n",
      "Use the following format:\n",
      "\n",
      "Question: the input question you must answer\n",
      "Thought: you should always think about what to do\n",
      "Action: the action to take, should be one of [请求Python代码助手, Python代码执行工具, Python包安装工具]\n",
      "Action Input: the input to the action\n",
      "Observation: the result of the action\n",
      "... (this Thought/Action/Action Input/Observation can repeat N times)\n",
      "Thought: I now know the final answer\n",
      "Final Answer: the final answer to the original input question\n",
      "\n",
      "Begin!\n",
      "\n",
      "Question: {input}\n",
      "Thought:{agent_scratchpad}\n"
     ]
    }
   ],
   "source": [
    "print(code_agent.agent.llm_chain.prompt.template) "
   ]
  },
  {
   "cell_type": "code",
   "execution_count": null,
   "id": "b1a74d72",
   "metadata": {},
   "outputs": [],
   "source": [
    "# 修改template 让agent尽可能使用我们的工具\n",
    "code_agent.agent.llm_chain.prompt.template = \"\"\"请尽可能回答下列问题。您必须使用以下工具，你只能通过请求Python代码助手来生成代码:\n",
    "\n",
    "请求Python代码助手(query: str) - 这是一个专业的Python代码助手，可以通过生成Python代码来解决你的代码问题，也能够分析代码错误信息，并进行代码修改。传入你的需求文本信息，或者代码执行错误信息。返回Python代码块。\n",
    "Python代码执行工具(code: str) - 这是一个运行Python代码的工具，传入Python代码块，返回代码执行后的结果。\n",
    "Python包安装工具(package_name: str, python_executable='E:\\\\My_Anaconda\\\\Anaconda\\\\envs\\\\LangChain_and_VectorDB\\\\python.exe') - 这是一个安装Python包的工具，当你缺少某个Python包时，帮你安装Python包，传入包名。\n",
    "\n",
    "使用如下格式:\n",
    "\n",
    "Question: 你必须回答的输入问题\n",
    "Thought: 思考你要做什么\n",
    "Action: 你采取的行动, 应该是这些中的其中一个 [请求Python代码助手, Python代码执行工具, Python包安装工具]\n",
    "Action Input: 对action的输入\n",
    "Observation: action的结果\n",
    "... (this Thought/Action/Action Input/Observation can repeat N times)\n",
    "Thought: 我现在知道最终的结果\n",
    "Final Answer: 关于开始输入的问题的最终结果\n",
    "\n",
    "Begin!\n",
    "\n",
    "Question: {input}\n",
    "Thought:{agent_scratchpad}\"\"\""
   ]
  },
  {
   "cell_type": "code",
   "execution_count": null,
   "id": "2a00e2ab",
   "metadata": {},
   "outputs": [],
   "source": [
    "code_agent.invoke(\"绘制一副回归图，并保存\")"
   ]
  }
 ],
 "metadata": {
  "kernelspec": {
   "display_name": "Python [conda env:LangChain_and_VectorDB]",
   "language": "python",
   "name": "conda-env-LangChain_and_VectorDB-py"
  },
  "language_info": {
   "codemirror_mode": {
    "name": "ipython",
    "version": 3
   },
   "file_extension": ".py",
   "mimetype": "text/x-python",
   "name": "python",
   "nbconvert_exporter": "python",
   "pygments_lexer": "ipython3",
   "version": "3.11.9"
  }
 },
 "nbformat": 4,
 "nbformat_minor": 5
}
